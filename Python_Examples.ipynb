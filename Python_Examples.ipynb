{
  "nbformat": 4,
  "nbformat_minor": 0,
  "metadata": {
    "colab": {
      "name": "Python Examples",
      "provenance": [],
      "collapsed_sections": []
    },
    "kernelspec": {
      "name": "python3",
      "display_name": "Python 3"
    },
    "language_info": {
      "name": "python"
    }
  },
  "cells": [
    {
      "cell_type": "code",
      "execution_count": null,
      "metadata": {
        "id": "Zp8GMjGpeSbe",
        "colab": {
          "base_uri": "https://localhost:8080/"
        },
        "outputId": "3fbb9e27-81aa-4d16-ace2-49810e790fed"
      },
      "outputs": [
        {
          "output_type": "stream",
          "name": "stdout",
          "text": [
            "What is your name? Michael\n",
            "6\n"
          ]
        }
      ],
      "source": [
        "#print length of input\n",
        "print(len(input('What is your name? ')))"
      ]
    },
    {
      "cell_type": "code",
      "source": [
        "#switches values stored in variable a and b\n",
        "a = input(\"a: \")\n",
        "b = input(\"b: \")\n",
        "c = a\n",
        "a = b\n",
        "b = c\n",
        "print(\"a: \" + a)\n",
        "print(\"b: \" + b)"
      ],
      "metadata": {
        "colab": {
          "base_uri": "https://localhost:8080/"
        },
        "id": "spQLyl5Mfkd4",
        "outputId": "0658a719-21bc-4a24-e7d5-e5f343baf9bc"
      },
      "execution_count": null,
      "outputs": [
        {
          "output_type": "stream",
          "name": "stdout",
          "text": [
            "a: 2\n",
            "b: b\n",
            "a: b\n",
            "b: 2\n"
          ]
        }
      ]
    },
    {
      "cell_type": "code",
      "source": [
        "#Concat user input to create a band name\n",
        "print('Welcome to the band name generator.')\n",
        "city = input('Which city did you grow up in? ')\n",
        "pet = input('What is the name of a pet? ')\n",
        "print('Your band name could be ' + city + \" \" + pet)"
      ],
      "metadata": {
        "colab": {
          "base_uri": "https://localhost:8080/"
        },
        "id": "vVNlNyTch___",
        "outputId": "6c14fb49-440c-4c7d-eccf-d97a07d31f1c"
      },
      "execution_count": null,
      "outputs": [
        {
          "output_type": "stream",
          "name": "stdout",
          "text": [
            "Welcome to the band name generator.\n",
            "Which city did you grow up in? moville\n",
            "What is the name of a pet? ollie\n",
            "Your band name could be moville ollie\n"
          ]
        }
      ]
    },
    {
      "cell_type": "code",
      "source": [
        "#Subscripting \n",
        "print('hello'[0:2]) "
      ],
      "metadata": {
        "colab": {
          "base_uri": "https://localhost:8080/"
        },
        "id": "1_lUGYWri-8r",
        "outputId": "cd246bc0-f340-48a0-9f81-7f4fefc0bc1f"
      },
      "execution_count": null,
      "outputs": [
        {
          "output_type": "stream",
          "name": "stdout",
          "text": [
            "he\n"
          ]
        }
      ]
    },
    {
      "cell_type": "code",
      "source": [
        "#Change and chck type\n",
        "num_char = len(input('what is your name? '))\n",
        "# print(type(num_char))\n",
        "new_num_char = str(num_char)\n",
        "print('Your name has ' + new_num_char + ' characters')\n"
      ],
      "metadata": {
        "colab": {
          "base_uri": "https://localhost:8080/"
        },
        "id": "v_8tSL6ejqTI",
        "outputId": "0dbfecf6-5436-4324-9cc9-bef6d45906a3"
      },
      "execution_count": null,
      "outputs": [
        {
          "output_type": "stream",
          "name": "stdout",
          "text": [
            "what is your name? Mike\n",
            "Your name has 4 characters\n"
          ]
        }
      ]
    },
    {
      "cell_type": "code",
      "source": [
        "#Add and print two digit input \n",
        "two_digit_number = input(\"Type a two digit number: \")\n",
        "# print(type(two_digit_number)) \n",
        "first_digit = two_digit_number[0]\n",
        "second_digit = two_digit_number[1]\n",
        "result = int(first_digit) + int(second_digit)\n",
        "print(result)"
      ],
      "metadata": {
        "colab": {
          "base_uri": "https://localhost:8080/"
        },
        "id": "BkJztunmmzGI",
        "outputId": "027d159c-c024-4611-d663-b7db3f97f95e"
      },
      "execution_count": null,
      "outputs": [
        {
          "output_type": "stream",
          "name": "stdout",
          "text": [
            "Type a two digit number: 23\n",
            "5\n"
          ]
        }
      ]
    },
    {
      "cell_type": "code",
      "source": [
        "#calculate body mass index (bmi = weight/ht**2)\n",
        "height = input(\"enter your height in m: \")\n",
        "weight = input(\"enter your weight in kg: \")\n",
        "# print(type(height)) will show str, need to make float\n",
        "height_as_float = float(height)\n",
        "weight_as_int = int(weight)\n",
        "bmi = weight_as_int / height_as_float ** 2\n",
        "bmi_as_int = int(bmi) #converts to integer from float\n",
        "print(bmi_as_int)"
      ],
      "metadata": {
        "colab": {
          "base_uri": "https://localhost:8080/"
        },
        "id": "-f_zRhLcnlHm",
        "outputId": "d895e417-c83f-4019-bc4e-3a80bc81aa77"
      },
      "execution_count": null,
      "outputs": [
        {
          "output_type": "stream",
          "name": "stdout",
          "text": [
            "enter your height in m: 1.73\n",
            "enter your weight in kg: 68\n",
            "22\n"
          ]
        }
      ]
    },
    {
      "cell_type": "code",
      "source": [
        "#f-string before \"\" with {}\n",
        "score = 0 \n",
        "height = 1.8\n",
        "isWinning = True\n",
        "print(f\"your score is {score}, your height is {height}, you are winning is {isWinning}\")"
      ],
      "metadata": {
        "colab": {
          "base_uri": "https://localhost:8080/"
        },
        "id": "PekadPN5sQiI",
        "outputId": "d107f0c5-610c-4ffb-a959-0ad81be66669"
      },
      "execution_count": null,
      "outputs": [
        {
          "output_type": "stream",
          "name": "stdout",
          "text": [
            "your score is 0, your height is 1.8, you are winning is True\n"
          ]
        }
      ]
    },
    {
      "cell_type": "code",
      "source": [
        "#Calculate time left before 90 years old\n",
        "age = input('What is your current age? ')\n",
        "\n",
        "age_as_int = int(age)\n",
        "years_remaining = 90 - age_as_int\n",
        "days_remaining = years_remaining * 365\n",
        "weeks_remaining = years_remaining * 52\n",
        "months_remaining = years_remaining * 12\n",
        "\n",
        "print(f'You have {days_remaining} days, {weeks_remaining} weeks, and {months_remaining} months left until you\\'re 90 y.o.')"
      ],
      "metadata": {
        "colab": {
          "base_uri": "https://localhost:8080/"
        },
        "id": "qk5fChcXtDBP",
        "outputId": "25a568a7-0f32-4ad2-fece-8b55fa8c34bd"
      },
      "execution_count": null,
      "outputs": [
        {
          "output_type": "stream",
          "name": "stdout",
          "text": [
            "What is your current age? 10\n",
            "You have 29200 days, 4160 weeks, and 960 months left until you're 90 y.o.\n"
          ]
        }
      ]
    },
    {
      "cell_type": "code",
      "source": [
        "#Tip calculator\n",
        "#If the bill was $150.00, split between 5 people, with 12% tip. \n",
        "#Each person should pay (150.00 / 5) * 1.12 = 33.6\n",
        "\n",
        "bill = float(input(\"What is the total bill? $\"))\n",
        "tip = int(input(\"What percentage tip would you like to give? 10, 12, or 15? \"))\n",
        "ppl = int(input('How many people? '))\n",
        "\n",
        "tip_as_percent = tip / 100\n",
        "total_tip_amount = bill * tip_as_percent\n",
        "total_bill = bill + total_tip_amount\n",
        "bill_pp = total_bill / ppl\n",
        "#final_amt = round(bill_pp, 2) #rounds two decimals but eliminates 0\n",
        "#to show two decimals with 0 i.e. .60 and not .6, need to format\n",
        "final_amt = \"{:0.2f}\".format(bill_pp)\n",
        "print(f'Each person should pay ${final_amt}')"
      ],
      "metadata": {
        "colab": {
          "base_uri": "https://localhost:8080/"
        },
        "id": "woMTUal1unqO",
        "outputId": "2db9d501-2f5f-47ac-f5a8-ed49499486a1"
      },
      "execution_count": null,
      "outputs": [
        {
          "output_type": "stream",
          "name": "stdout",
          "text": [
            "What is the total bill? $150\n",
            "What percentage tip would you like to give? 10, 12, or 15? 12\n",
            "How many people? 5\n",
            "Each person should pay $33.60\n"
          ]
        }
      ]
    },
    {
      "cell_type": "code",
      "source": [
        ""
      ],
      "metadata": {
        "id": "JxJdcukAzURT"
      },
      "execution_count": null,
      "outputs": []
    },
    {
      "cell_type": "code",
      "source": [
        ""
      ],
      "metadata": {
        "id": "O4sntOcPzUIy"
      },
      "execution_count": null,
      "outputs": []
    },
    {
      "cell_type": "code",
      "source": [
        "#calculate 'love score' by adding letters in names\n",
        "print(\"Welcome to the Love Calculator!\")\n",
        "name1 = input(\"What is your name? \\n\")\n",
        "name2 = input(\"What is their name? \\n\")\n",
        "\n",
        "combined_string = name1 + name2\n",
        "lower_case_string = combined_string.lower()\n",
        "\n",
        "t = lower_case_string.count(\"t\")\n",
        "r = lower_case_string.count(\"r\")\n",
        "u = lower_case_string.count(\"u\")\n",
        "e = lower_case_string.count(\"e\")\n",
        "true = t + r + u + e\n",
        "\n",
        "l = lower_case_string.count(\"l\")\n",
        "o = lower_case_string.count(\"o\")\n",
        "v = lower_case_string.count(\"v\")\n",
        "e = lower_case_string.count(\"e\")\n",
        "love = l + o + v + e\n",
        "\n",
        "love_score = int(str(true) + str(love))\n",
        "#must convert love_score to int\n",
        "\n",
        "if (love_score < 10) or (love_score > 90):\n",
        "  print(f\"Your love score is {love_score}, .. not good\")\n",
        "elif(love_score >= 40) and (love_score <= 50):\n",
        "  print(f\"Youre score is {love_score}, you're alright together.\")\n",
        "else:\n",
        "  print(f\"Your score is {love_score}\")"
      ],
      "metadata": {
        "colab": {
          "base_uri": "https://localhost:8080/"
        },
        "id": "nHTmj1pozT8v",
        "outputId": "5f83604d-4eeb-41e0-d9d7-768f1b22ce2f"
      },
      "execution_count": null,
      "outputs": [
        {
          "output_type": "stream",
          "name": "stdout",
          "text": [
            "Welcome to the Love Calculator!\n",
            "What is your name? \n",
            "billy b\n",
            "What is their name? \n",
            "sally s\n",
            "Your love score is 4, .. not good\n"
          ]
        }
      ]
    },
    {
      "cell_type": "code",
      "source": [
        ""
      ],
      "metadata": {
        "id": "WZhY3M194Vg5"
      },
      "execution_count": null,
      "outputs": []
    },
    {
      "cell_type": "code",
      "source": [
        "#If / elif Treasure game\n",
        "print('''\n",
        "*******************************************************************************\n",
        "          |                   |                  |                     |\n",
        " _________|________________.=\"\"_;=.______________|_____________________|_______\n",
        "|                   |  ,-\"_,=\"\"     `\"=.|                  |\n",
        "|___________________|__\"=._o`\"-._        `\"=.______________|___________________\n",
        "          |                `\"=._o`\"=._      _`\"=._                     |\n",
        " _________|_____________________:=._o \"=._.\"_.-=\"'\"=.__________________|_______\n",
        "|                   |    __.--\" , ; `\"=._o.\" ,-\"\"\"-._ \".   |\n",
        "|___________________|_._\"  ,. .` ` `` ,  `\"-._\"-._   \". '__|___________________\n",
        "          |           |o`\"=._` , \"` `; .\". ,  \"-._\"-._; ;              |\n",
        " _________|___________| ;`-.o`\"=._; .\" ` '`.\"\\` . \"-._ /_______________|_______\n",
        "|                   | |o;    `\"-.o`\"=._``  '` \" ,__.--o;   |\n",
        "|___________________|_| ;     (#) `-.o `\"=.`_.--\"_o.-; ;___|___________________\n",
        "____/______/______/___|o;._    \"      `\".o|o_.--\"    ;o;____/______/______/____\n",
        "/______/______/______/_\"=._o--._        ; | ;        ; ;/______/______/______/_\n",
        "____/______/______/______/__\"=._o--._   ;o|o;     _._;o;____/______/______/____\n",
        "/______/______/______/______/____\"=._o._; | ;_.--\"o.--\"_/______/______/______/_\n",
        "____/______/______/______/______/_____\"=.o|o_.--\"\"___/______/______/______/____\n",
        "/______/______/______/______/______/______/______/______/______/______/_____ /\n",
        "*******************************************************************************\n",
        "''')\n",
        "print(\"Welcome to Treasure Island.\")\n",
        "print(\"Your mission is to find the treasure.\") \n",
        "choice1 = input('You\\'re at a crossroad, where do you want to go? Type \"left\" or \"right\".')\n",
        "\n",
        "if choice1 == \"left\": \n",
        "  choice2 = input('You reached a lake. There is an island. Type \"wait\" to wait for a boat.  Type \"swim\" to swim across.').lower()\n",
        "  if choice2 == \"wait\":\n",
        "    choice3 = input(\"You arive at the island unharmed. There is ahosue with 3 doors. One rd, one yellow, and one blue. Which color do you choose?\").lower()\n",
        "    if choice3 == \"red\":\n",
        "      print('You found a room full of fire. Game over.')\n",
        "    elif choice3 == \"blue\":\n",
        "      print('You enter a room full of beasts. Game over.')\n",
        "    elif choice3 == \"yellow\":\n",
        "      print('You found the treasure! Winner!')\n",
        "    else:\n",
        "      print('You entered an invalid room, game over')\n",
        "  else:  \n",
        "    print('You were attacked by an angry fish. Game over')\n",
        "else:\n",
        "  print(\"You fell into a hole. Game Over.\")\n",
        "\n",
        "#ascii.co.uk for ascii art"
      ],
      "metadata": {
        "colab": {
          "base_uri": "https://localhost:8080/"
        },
        "id": "Wfhlkp1H8QAQ",
        "outputId": "9b3a1984-6f11-4287-8d46-8b0e48f67cf8"
      },
      "execution_count": null,
      "outputs": [
        {
          "output_type": "stream",
          "name": "stdout",
          "text": [
            "\n",
            "*******************************************************************************\n",
            "          |                   |                  |                     |\n",
            " _________|________________.=\"\"_;=.______________|_____________________|_______\n",
            "|                   |  ,-\"_,=\"\"     `\"=.|                  |\n",
            "|___________________|__\"=._o`\"-._        `\"=.______________|___________________\n",
            "          |                `\"=._o`\"=._      _`\"=._                     |\n",
            " _________|_____________________:=._o \"=._.\"_.-=\"'\"=.__________________|_______\n",
            "|                   |    __.--\" , ; `\"=._o.\" ,-\"\"\"-._ \".   |\n",
            "|___________________|_._\"  ,. .` ` `` ,  `\"-._\"-._   \". '__|___________________\n",
            "          |           |o`\"=._` , \"` `; .\". ,  \"-._\"-._; ;              |\n",
            " _________|___________| ;`-.o`\"=._; .\" ` '`.\"\\` . \"-._ /_______________|_______\n",
            "|                   | |o;    `\"-.o`\"=._``  '` \" ,__.--o;   |\n",
            "|___________________|_| ;     (#) `-.o `\"=.`_.--\"_o.-; ;___|___________________\n",
            "____/______/______/___|o;._    \"      `\".o|o_.--\"    ;o;____/______/______/____\n",
            "/______/______/______/_\"=._o--._        ; | ;        ; ;/______/______/______/_\n",
            "____/______/______/______/__\"=._o--._   ;o|o;     _._;o;____/______/______/____\n",
            "/______/______/______/______/____\"=._o._; | ;_.--\"o.--\"_/______/______/______/_\n",
            "____/______/______/______/______/_____\"=.o|o_.--\"\"___/______/______/______/____\n",
            "/______/______/______/______/______/______/______/______/______/______/_____ /\n",
            "*******************************************************************************\n",
            "\n",
            "Welcome to Treasure Island.\n",
            "Your mission is to find the treasure.\n",
            "You're at a crossroad, where do you want to go? Type \"left\" or \"right\".left\n",
            "You reached a lake. There is an island. Type \"wait\" to wait for a boat.  Type \"swim\" to swim across.wait\n",
            "You arive at the island unharmed. There is ahosue with 3 doors. One rd, one yellow, and one blue. Which color do you choose?red\n",
            "You found a room full of fire. Game over.\n"
          ]
        }
      ]
    },
    {
      "cell_type": "code",
      "source": [
        "# random generator\n",
        "import random\n",
        "random_float = random.random() #returns random 0 - 1\n",
        "print (random_float)\n",
        "random_float * 5 #to get higher number use calculation\n",
        "\n",
        "lucky_num = random.randint(1, 100)\n",
        "print(f'Your lucky number is {lucky_num}')\n",
        "\n",
        "#heads or tails\n",
        "import random\n",
        "random_side = random.randint(0, 1)\n",
        "if random_side == 1:\n",
        "  print(\"heads\")\n",
        "else:\n",
        "  print('tails')"
      ],
      "metadata": {
        "id": "KostRTA39Z2I",
        "colab": {
          "base_uri": "https://localhost:8080/"
        },
        "outputId": "e484555c-ded1-481a-9990-d8a70f811978"
      },
      "execution_count": null,
      "outputs": [
        {
          "output_type": "stream",
          "name": "stdout",
          "text": [
            "0.5072411801413846\n",
            "Your lucky number is 98\n",
            "heads\n"
          ]
        }
      ]
    },
    {
      "cell_type": "code",
      "source": [
        "#LISTS start at 0, can use negative\n",
        "states_of_america = [\"Delaware\", \"Iowa\", \"Hawaii\"]\n",
        "print(states_of_america[1])\n",
        "\n",
        "print(states_of_america[-1])\n",
        "\n",
        "#states_of_america[2] = \"NewState\" #to change state in index 2\n",
        "\n",
        "#states_of_america.append(X) #adds to end of list\n",
        "#states_of_america.extend(x, x, x) #adds multiple to list"
      ],
      "metadata": {
        "colab": {
          "base_uri": "https://localhost:8080/"
        },
        "id": "ujCcgJgGB979",
        "outputId": "55815bfa-d3ca-4bb9-cb96-0d3d75667d35"
      },
      "execution_count": null,
      "outputs": [
        {
          "output_type": "stream",
          "name": "stdout",
          "text": [
            "Iowa\n",
            "Hawaii\n"
          ]
        }
      ]
    },
    {
      "cell_type": "code",
      "source": [
        "# random selection from input, split string method ### use random.choice \n",
        "names_string = input(\"Give me everybody's names, separated by a comma. \")\n",
        "names = names_string.split(\", \")\n",
        "#one way is to first get total number of items in list and use randint\n",
        "# num_items = len(names)\n",
        "# random_choice = random.randint(0, num_items - 1)\n",
        "# person_paying = names[random_choice]\n",
        "# print(f'{person_paying} is paying today')\n",
        "\n",
        "#easiest way\n",
        "person_who_pays = random.choice(names)\n",
        "print(person_who_pays + \" is buying\")"
      ],
      "metadata": {
        "colab": {
          "base_uri": "https://localhost:8080/"
        },
        "id": "warjA2R2G5fR",
        "outputId": "6436085c-532f-4199-b44f-288dc4524f8d"
      },
      "execution_count": null,
      "outputs": [
        {
          "output_type": "stream",
          "name": "stdout",
          "text": [
            "Give me everybody's names, separated by a comma. mike, john, sally\n",
            "mike is buying\n"
          ]
        }
      ]
    },
    {
      "cell_type": "code",
      "source": [
        "#nested lists example\n",
        "fruits = [\"Strawberries\", \"Nectarines\", \"Apples\", \"Grapes\", \"Peaches\", \"Cherries\", \"Pears\"]\n",
        "vegetables = [\"Spinach\", \"Kale\", \"Tomatoes\", \"Celery\", \"Potatoes\"]\n",
        " \n",
        "dirty_dozen = [fruits, vegetables]\n",
        " \n",
        "print(dirty_dozen[1][1])"
      ],
      "metadata": {
        "id": "b0YGQ71dJ32R",
        "colab": {
          "base_uri": "https://localhost:8080/"
        },
        "outputId": "639cbbc7-326c-4e17-a207-f9f7eb99a244"
      },
      "execution_count": null,
      "outputs": [
        {
          "output_type": "stream",
          "name": "stdout",
          "text": [
            "Kale\n"
          ]
        }
      ]
    },
    {
      "cell_type": "code",
      "source": [
        "#TIC TAC TOE using lists\n",
        "row1 = [\"⬜️\",\"⬜️\",\"⬜️\"]\n",
        "row2 = [\"⬜️\",\"⬜️\",\"⬜️\"]\n",
        "row3 = [\"⬜️\",\"⬜️\",\"⬜️\"]\n",
        "map = [row1, row2, row3]\n",
        "print(f\"{row1}\\n{row2}\\n{row3}\")\n",
        "position = input(\"Where do you want to put the treasure? \")\n",
        "\n",
        "horizontal = int(position[0])\n",
        "vertical = int(position[1])\n",
        "\n",
        "selected_row = (map[vertical - 1]) #need to subtract 1 or will index error \n",
        "selected_row[horizontal - 1] = \"X\"\n",
        "print(f\"{row1}\\n{row2}\\n{row3}\")\n"
      ],
      "metadata": {
        "colab": {
          "base_uri": "https://localhost:8080/"
        },
        "id": "GwVbw5rxLzBc",
        "outputId": "1ea42a4c-a295-4ec5-ba78-c7479b8320a9"
      },
      "execution_count": null,
      "outputs": [
        {
          "output_type": "stream",
          "name": "stdout",
          "text": [
            "['⬜️', '⬜️', '⬜️']\n",
            "['⬜️', '⬜️', '⬜️']\n",
            "['⬜️', '⬜️', '⬜️']\n",
            "Where do you want to put the treasure? 22\n",
            "['⬜️', '⬜️', '⬜️']\n",
            "['⬜️', 'X', '⬜️']\n",
            "['⬜️', '⬜️', '⬜️']\n"
          ]
        }
      ]
    },
    {
      "cell_type": "markdown",
      "source": [
        ""
      ],
      "metadata": {
        "id": "HLVoNzchMXFy"
      }
    },
    {
      "cell_type": "code",
      "source": [
        "#Rock Paper Scissors\n",
        "rock = '''\n",
        "    _______\n",
        "---'   ____)\n",
        "      (_____)\n",
        "      (_____)\n",
        "      (____)\n",
        "---.__(___)\n",
        "'''\n",
        "\n",
        "paper = '''\n",
        "    _______\n",
        "---'   ____)____\n",
        "          ______)\n",
        "          _______)\n",
        "         _______)\n",
        "---.__________)\n",
        "'''\n",
        "\n",
        "scissors = '''\n",
        "    _______\n",
        "---'   ____)____\n",
        "          ______)\n",
        "       __________)\n",
        "      (____)\n",
        "---.__(___)\n",
        "'''\n",
        "import random\n",
        "#first attempt commented out\n",
        "# rps_string = (\"rock, paper, scissors\")\n",
        "# rps_split = rps_string.split(\", \")\n",
        "\n",
        "# choice1 = input('To play type \"rock\" \"paper\" or \"scissors\"\\n\\nReady? \\nRock Paper Scissors.. shoot!\\n (type your answer now)\\n\\n')\n",
        "\n",
        "# #computers first roll\n",
        "# random1 = random.choice(rps_split)\n",
        "\n",
        "# # if choice1 = rps[0] and \n",
        "\n",
        "# print(f'\\nThe computer chose {random1}')\n",
        "# if str(random1) == rock\n",
        "\n",
        "\n",
        "##### easier way\n",
        "\n",
        "user_choice = int(input(\"what do you choose? type 0 for Rock, 1 for paper, or 2 for scissors.\\n\"))\n",
        "\n",
        "computer_choice = random.randint(0, 2)\n",
        "games_images = [rock, paper, scissors]\n",
        "if user_choice >= 3 or user_choice <0:\n",
        "  print('you typed an invalid number, you lose')\n",
        "else: #select all and tab over to avoid index error if input >= 3\n",
        "  print('computer chose:')\n",
        "  print(games_images[computer_choice])\n",
        "  print('you chose:')\n",
        "  print(games_images[user_choice])\n",
        "  \n",
        "  if user_choice == 0 and computer_choice == 2:\n",
        "    print('you win!')\n",
        "  elif computer_choice > user_choice:\n",
        "    print('you lose!')\n",
        "  elif user_choice == 2 and computer_choice == 0:\n",
        "    print('you lose')\n",
        "  elif user_choice > computer_choice:\n",
        "    print('you win!')\n",
        "  elif computer_choice == user_choice:\n",
        "    print('its a draw')\n",
        "   \n"
      ],
      "metadata": {
        "colab": {
          "base_uri": "https://localhost:8080/"
        },
        "id": "BsPBq7RmRhgd",
        "outputId": "1cb8668e-d77f-4890-c630-0649b7477237"
      },
      "execution_count": null,
      "outputs": [
        {
          "output_type": "stream",
          "name": "stdout",
          "text": [
            "what do you choose? type 0 for Rock, 1 for paper, or 2 for scissors.\n",
            "1\n",
            "computer chose:\n",
            "\n",
            "    _______\n",
            "---'   ____)\n",
            "      (_____)\n",
            "      (_____)\n",
            "      (____)\n",
            "---.__(___)\n",
            "\n",
            "you chose:\n",
            "\n",
            "    _______\n",
            "---'   ____)____\n",
            "          ______)\n",
            "          _______)\n",
            "         _______)\n",
            "---.__________)\n",
            "\n",
            "you win!\n"
          ]
        }
      ]
    },
    {
      "cell_type": "code",
      "source": [
        "#LOOPS\n",
        "fruits = ['Apple', 'Peach', 'Pear']\n",
        "for fruit in fruits:\n",
        "  print(fruit)\n",
        "  print(fruit + \" Pie\")\n"
      ],
      "metadata": {
        "colab": {
          "base_uri": "https://localhost:8080/"
        },
        "id": "WoQitiSgpD1E",
        "outputId": "18fab5e6-db68-40eb-8a41-0614d9cf4fad"
      },
      "execution_count": null,
      "outputs": [
        {
          "output_type": "stream",
          "name": "stdout",
          "text": [
            "Apple\n",
            "Apple Pie\n",
            "Peach\n",
            "Peach Pie\n",
            "Pear\n",
            "Pear Pie\n"
          ]
        }
      ]
    },
    {
      "cell_type": "code",
      "source": [
        "#average student height with foor loop\n",
        "student_heights = input(\"Input a list of student heights with only spaces between\").split()\n",
        "for n in range(0, len(student_heights)):\n",
        "  student_heights[n] = int(student_heights[n])\n",
        "\n",
        "total_height = 0\n",
        "for height in student_heights:\n",
        "    total_height += height\n",
        "#print(total_height)\n",
        "\n",
        "number_of_students = 0\n",
        "for student in student_heights:\n",
        "  number_of_students += 1\n",
        "#print(number_of_students)\n",
        "\n",
        "average_ht = round(total_height / number_of_students)\n",
        "print(f'Average height: {average_ht} with a total of {number_of_students} students')"
      ],
      "metadata": {
        "colab": {
          "base_uri": "https://localhost:8080/"
        },
        "id": "CNqkFv-5qe0k",
        "outputId": "a10ea141-f7d8-4f3c-e21c-9130b8af37e6"
      },
      "execution_count": null,
      "outputs": [
        {
          "output_type": "stream",
          "name": "stdout",
          "text": [
            "Input a list of student heights with only spaces between232 232 232 234\n",
            "Average height: 232 with a total of 4 students\n"
          ]
        }
      ]
    },
    {
      "cell_type": "code",
      "source": [
        "#Use a for loop to find highest score\n",
        "student_scores = input(\"Input a list of student scores \").split()\n",
        "for n in range(0, len(student_scores)):\n",
        "  student_scores[n] = int(student_scores[n])\n",
        "print(student_scores)\n",
        "\n",
        "highest_score = 0\n",
        "for score in student_scores:\n",
        "  if score > highest_score:\n",
        "    highest_score = score\n",
        "print(f'The highest score is {highest_score}')"
      ],
      "metadata": {
        "colab": {
          "base_uri": "https://localhost:8080/"
        },
        "id": "ur__AQkGLgAX",
        "outputId": "a93dac7a-8b6e-4d28-f6f5-ca2626e45bd2"
      },
      "execution_count": null,
      "outputs": [
        {
          "output_type": "stream",
          "name": "stdout",
          "text": [
            "Input a list of student scores 66 77 85 88 55 65\n",
            "[66, 77, 85, 88, 55, 65]\n",
            "The highest score is 88\n"
          ]
        }
      ]
    },
    {
      "cell_type": "code",
      "source": [
        "#FOR LOOP with a range\n",
        "for number in range(1, 11, 3): #(range start, range end, steps)\n",
        "  print(number)\n",
        "\n",
        "#add every number from 1 - 100\n",
        "total = 0\n",
        "for number in range(1, 101):\n",
        "  total += number\n",
        "print(total)"
      ],
      "metadata": {
        "colab": {
          "base_uri": "https://localhost:8080/"
        },
        "id": "e4bFaeOqNEf_",
        "outputId": "fcb28be2-3e2f-472e-a109-ea8bbb633997"
      },
      "execution_count": null,
      "outputs": [
        {
          "output_type": "stream",
          "name": "stdout",
          "text": [
            "1\n",
            "4\n",
            "7\n",
            "10\n",
            "5050\n"
          ]
        }
      ]
    },
    {
      "cell_type": "code",
      "source": [
        "number_total = 0\n",
        "for number in range(2, 101, 2):\n",
        "  number_total += number\n",
        "print(number_total) #remove indentation to show only final number"
      ],
      "metadata": {
        "colab": {
          "base_uri": "https://localhost:8080/"
        },
        "id": "hIpztMe2OLEr",
        "outputId": "103e0d6c-4520-4413-eab0-8abd05996066"
      },
      "execution_count": null,
      "outputs": [
        {
          "output_type": "stream",
          "name": "stdout",
          "text": [
            "2550\n"
          ]
        }
      ]
    },
    {
      "cell_type": "code",
      "source": [
        "#if statement- takeaway: order is important - see how AND statement is first if statement\n",
        "for number in range(1, 15):\n",
        "  if number % 3 == 0 and number % 5 == 0: #this must be first or code would stop early\n",
        "    print(\"divides by 3 and 5\")\n",
        "  elif number % 3 == 0:\n",
        "    print('deivides by 3')\n",
        "  elif number % 5 == 0:\n",
        "    print('number divides by 5')\n",
        "  else:\n",
        "    print(number)"
      ],
      "metadata": {
        "colab": {
          "base_uri": "https://localhost:8080/"
        },
        "id": "ytwZ7LndPqq8",
        "outputId": "815a6eb9-7bba-402a-c4f6-7638ff742654"
      },
      "execution_count": null,
      "outputs": [
        {
          "output_type": "stream",
          "name": "stdout",
          "text": [
            "1\n",
            "2\n",
            "deivides by 3\n",
            "4\n",
            "number divides by 5\n",
            "deivides by 3\n",
            "7\n",
            "8\n",
            "deivides by 3\n",
            "number divides by 5\n",
            "11\n",
            "deivides by 3\n",
            "13\n",
            "14\n"
          ]
        }
      ]
    },
    {
      "cell_type": "code",
      "source": [
        "# #create Random password generator\n",
        "\n",
        "import random\n",
        "#easy version\n",
        "\n",
        "# letters = ['a', 'b', 'c', 'd', 'e', 'f', 'g', 'h', 'i', 'j', 'k', 'l', 'm', 'n', 'o', 'p', 'q', 'r', 's', 't', 'u', 'v', 'w', 'x', 'y', 'z', 'A', 'B', 'C', 'D', 'E', 'F', 'G', 'H', 'I', 'J', 'K', 'L', 'M', 'N', 'O', 'P', 'Q', 'R', 'S', 'T', 'U', 'V', 'W', 'X', 'Y', 'Z']\n",
        "# numbers = ['0', '1', '2', '3', '4', '5', '6', '7', '8', '9']\n",
        "# symbols = ['!', '#', '$', '%', '&', '(', ')', '*', '+']\n",
        "\n",
        "# print(\"Welcome to the PyPassword Generator!\")\n",
        "# nr_letters= int(input(\"How many letters would you like in your password?\\n\")) \n",
        "# nr_symbols = int(input(f\"How many symbols would you like?\\n\"))\n",
        "# nr_numbers = int(input(f\"How many numbers would you like?\\n\"))\n",
        "\n",
        "# password = \"\"\n",
        "# for char in range(1, nr_letters + 1):\n",
        "#   password += random.choice(letters)\n",
        "\n",
        "#repeat for symbols and numbers to add complexity to pw\n",
        "#harder version \\/\n",
        "password_list = []\n",
        "\n",
        "for char in range(1, nr_letters + 1):\n",
        "  password_list += random.choice(symbols)\n",
        "for char in range(1, nr_numbers + 1):\n",
        "  password_list += random.choice(numbers)\n",
        "  #google how to reorder a list, can use random.shuffle(x) function\n",
        "\n",
        "print(password_list)\n",
        "random.shuffle(password_list)\n",
        "\n",
        "password = \"\"\n",
        "for char in password_list:\n",
        "  password += char\n",
        "print(f'Your password is {password}')"
      ],
      "metadata": {
        "colab": {
          "base_uri": "https://localhost:8080/"
        },
        "id": "7QlCCjJ9RblJ",
        "outputId": "6c389d85-71d1-42bd-f244-173efba5c7ec"
      },
      "execution_count": null,
      "outputs": [
        {
          "output_type": "stream",
          "name": "stdout",
          "text": [
            "Welcome to the PyPassword Generator!\n",
            "How many letters would you like in your password?\n",
            "3\n",
            "How many symbols would you like?\n",
            "4\n",
            "How many numbers would you like?\n",
            "3\n",
            "[')', '&', '$', '4', '9', '4']\n",
            "Your password is 94$4)&\n"
          ]
        }
      ]
    },
    {
      "cell_type": "code",
      "source": [
        "def my_function(): #function 101\n",
        "  print('oi mate')\n",
        "my_function()"
      ],
      "metadata": {
        "colab": {
          "base_uri": "https://localhost:8080/"
        },
        "id": "CNsfv1MTi0PM",
        "outputId": "e4e0c1fa-179d-4d50-d518-4ce556a5c3bc"
      },
      "execution_count": null,
      "outputs": [
        {
          "output_type": "stream",
          "name": "stdout",
          "text": [
            "oi mate\n"
          ]
        }
      ]
    },
    {
      "cell_type": "code",
      "source": [
        "#while loop 101\n",
        "number_of_hurdles = 3\n",
        "while number_of_hurdles > 0:\n",
        "    number_of_hurdles -= 1\n",
        "    print(number_of_hurdles)"
      ],
      "metadata": {
        "colab": {
          "base_uri": "https://localhost:8080/"
        },
        "id": "t5XgSve0jzFg",
        "outputId": "268ceb0d-596d-4837-e97f-45ffa6f67934"
      },
      "execution_count": null,
      "outputs": [
        {
          "output_type": "stream",
          "name": "stdout",
          "text": [
            "2\n",
            "1\n",
            "0\n"
          ]
        }
      ]
    },
    {
      "cell_type": "code",
      "source": [
        "#while not example \n",
        "while not at_goal():\n",
        "    if wall_in_front():\n",
        "        jump()\n",
        "    else:\n",
        "        move() "
      ],
      "metadata": {
        "id": "7iUuB8SVpBoF"
      },
      "execution_count": null,
      "outputs": []
    },
    {
      "cell_type": "code",
      "source": [
        "#hangman \n",
        "import random\n",
        "word_list = [\"aardvark\", \"baboon\", \"camel\"]\n",
        "chosen_word = random.choice(word_list)\n",
        "#Testing code\n",
        "print(f'Pssst, the solution is {chosen_word}.')\n",
        "#Create an empty List called display.\n",
        "#For each letter in the chosen_word, add a \"_\" to 'display'\n",
        "display = []\n",
        "word_length = len(chosen_word)\n",
        "for letter in range(word_length):\n",
        "  display += \"_\"\n",
        "print(display)\n",
        "guess = input(\"Guess a letter: \").lower()\n",
        "#TODO-2: - Loop through each position in the chosen_word\n",
        "\n",
        "for position in range(word_length):\n",
        "  letter = chosen_word[position]  \n",
        "  if letter == guess:\n",
        "    display[position] = letter\n",
        "print(display)"
      ],
      "metadata": {
        "colab": {
          "base_uri": "https://localhost:8080/"
        },
        "id": "bDySoWBbzPaX",
        "outputId": "23f3c699-26c2-4ca6-fa8a-059019df54fa"
      },
      "execution_count": null,
      "outputs": [
        {
          "output_type": "stream",
          "name": "stdout",
          "text": [
            "Pssst, the solution is camel.\n",
            "['_', '_', '_', '_', '_']\n",
            "Guess a letter: a\n",
            "['_', 'a', '_', '_', '_']\n"
          ]
        }
      ]
    },
    {
      "cell_type": "code",
      "source": [
        "#Hangman using a while loop\n",
        "#can clera with -- from ..replit.. import clear \n",
        "import random\n",
        "\n",
        "stages = ['''\n",
        "  +---+\n",
        "  |   |\n",
        "  O   |\n",
        " /|\\  |\n",
        " / \\  |\n",
        "      |\n",
        "=========\n",
        "''', '''\n",
        "  +---+\n",
        "  |   |\n",
        "  O   |\n",
        " /|\\  |\n",
        " /    |\n",
        "      |\n",
        "=========\n",
        "''', '''\n",
        "  +---+\n",
        "  |   |\n",
        "  O   |\n",
        " /|\\  |\n",
        "      |\n",
        "      |\n",
        "=========\n",
        "''', '''\n",
        "  +---+\n",
        "  |   |\n",
        "  O   |\n",
        " /|   |\n",
        "      |\n",
        "      |\n",
        "=========''', '''\n",
        "  +---+\n",
        "  |   |\n",
        "  O   |\n",
        "  |   |\n",
        "      |\n",
        "      |\n",
        "=========\n",
        "''', '''\n",
        "  +---+\n",
        "  |   |\n",
        "  O   |\n",
        "      |\n",
        "      |\n",
        "      |\n",
        "=========\n",
        "''', '''\n",
        "  +---+\n",
        "  |   |\n",
        "      |\n",
        "      |\n",
        "      |\n",
        "      |\n",
        "=========\n",
        "''']\n",
        "\n",
        "end_of_game = False\n",
        "word_list = [\"ardvark\", \"baboon\", \"camel\"]\n",
        "chosen_word = random.choice(word_list)\n",
        "word_length = len(chosen_word)\n",
        "\n",
        "lives = 6\n",
        "#Testing code\n",
        "print(f'fyi, the solution is {chosen_word}.')\n",
        "#Create blanks\n",
        "display = []\n",
        "for _ in range(word_length):\n",
        "    display += \"_\"\n",
        "\n",
        "while not end_of_game:\n",
        "    guess = input(\"Guess a letter: \").lower()\n",
        "\n",
        "#Check guessed letter\n",
        "    for position in range(word_length):\n",
        "        letter = chosen_word[position]\n",
        "# print(f\"Current position: {position}\\n Current letter: {letter}\\n Guessed letter: {guess}\")\n",
        "        if letter == guess:\n",
        "            display[position] = letter\n",
        "\n",
        "#lives down to 0 = the game should stop\n",
        "    if guess not in chosen_word:\n",
        "        lives -= 1\n",
        "        if lives == 0:\n",
        "            end_of_game = True\n",
        "            print(\"sorry, you lose.\")\n",
        "\n",
        "#Join all the elements in the list and turn it into a String.\n",
        "    print(f\"{' '.join(display)}\")\n",
        "\n",
        "#Check if user has got all letters.\n",
        "    if \"_\" not in display:\n",
        "        end_of_game = True\n",
        "        print(\"You win.\")\n",
        "#print the ASCII art \n",
        "    print(stages[lives])"
      ],
      "metadata": {
        "id": "OfWWrqd88vjW",
        "colab": {
          "base_uri": "https://localhost:8080/"
        },
        "outputId": "ef44344a-967c-4e97-91c6-70821980217d"
      },
      "execution_count": null,
      "outputs": [
        {
          "output_type": "stream",
          "name": "stdout",
          "text": [
            "fyi, the solution is camel.\n",
            "Guess a letter: a\n",
            "_ a _ _ _\n",
            "\n",
            "  +---+\n",
            "  |   |\n",
            "      |\n",
            "      |\n",
            "      |\n",
            "      |\n",
            "=========\n",
            "\n",
            "Guess a letter: m\n",
            "_ a m _ _\n",
            "\n",
            "  +---+\n",
            "  |   |\n",
            "      |\n",
            "      |\n",
            "      |\n",
            "      |\n",
            "=========\n",
            "\n",
            "Guess a letter: l\n",
            "Guess a letter: \n",
            "_ a m _ l\n",
            "\n",
            "  +---+\n",
            "  |   |\n",
            "      |\n",
            "      |\n",
            "      |\n",
            "      |\n",
            "=========\n",
            "\n",
            "_ a m _ l\n",
            "\n",
            "  +---+\n",
            "  |   |\n",
            "      |\n",
            "      |\n",
            "      |\n",
            "      |\n",
            "=========\n",
            "\n",
            "Guess a letter: j\n",
            "Guess a letter: h\n",
            "_ a m _ l\n",
            "\n",
            "  +---+\n",
            "  |   |\n",
            "  O   |\n",
            "      |\n",
            "      |\n",
            "      |\n",
            "=========\n",
            "\n",
            "_ a m _ l\n",
            "\n",
            "  +---+\n",
            "  |   |\n",
            "  O   |\n",
            "  |   |\n",
            "      |\n",
            "      |\n",
            "=========\n",
            "\n",
            "Guess a letter: y\n",
            "_ a m _ l\n",
            "\n",
            "  +---+\n",
            "  |   |\n",
            "  O   |\n",
            " /|   |\n",
            "      |\n",
            "      |\n",
            "=========\n",
            "Guess a letter: u\n",
            "_ a m _ l\n",
            "\n",
            "  +---+\n",
            "  |   |\n",
            "  O   |\n",
            " /|\\  |\n",
            "      |\n",
            "      |\n",
            "=========\n",
            "\n",
            "Guess a letter: y\n",
            "_ a m _ l\n",
            "\n",
            "  +---+\n",
            "  |   |\n",
            "  O   |\n",
            " /|\\  |\n",
            " /    |\n",
            "      |\n",
            "=========\n",
            "\n",
            "Guess a letter: t\n",
            "sorry, you lose.\n",
            "_ a m _ l\n",
            "\n",
            "  +---+\n",
            "  |   |\n",
            "  O   |\n",
            " /|\\  |\n",
            " / \\  |\n",
            "      |\n",
            "=========\n",
            "\n"
          ]
        }
      ]
    },
    {
      "cell_type": "code",
      "source": [
        "def greet():\n",
        "    print('hello')\n",
        "\n",
        "def greet_with_name(name):\n",
        "    print(f'ello {name}')\n",
        "#argument is actual data whats being called, parameter is name of that data \n",
        "greet()\n",
        "greet_with_name(\"jon\")"
      ],
      "metadata": {
        "colab": {
          "base_uri": "https://localhost:8080/"
        },
        "id": "bAx5c1Is5DFJ",
        "outputId": "954fd4fe-ddf6-4627-9a05-e2c7b827c4a0"
      },
      "execution_count": null,
      "outputs": [
        {
          "output_type": "stream",
          "name": "stdout",
          "text": [
            "hello\n",
            "ello jon\n"
          ]
        }
      ]
    },
    {
      "cell_type": "code",
      "source": [
        "def greet_with(name, location):\n",
        "    print(f' hello {name} from {location}')\n",
        "\n",
        "greet_with('john' , 'mia')\n",
        "#add position argument\n",
        "greet_with(location='moville', name ='mike')"
      ],
      "metadata": {
        "colab": {
          "base_uri": "https://localhost:8080/"
        },
        "id": "oFDNGzSA6lmo",
        "outputId": "c49c9b0f-8160-4135-8ede-ebcdd85ba168"
      },
      "execution_count": null,
      "outputs": [
        {
          "output_type": "stream",
          "name": "stdout",
          "text": [
            " hello john from mia\n",
            " hello mike from moville\n"
          ]
        }
      ]
    },
    {
      "cell_type": "code",
      "source": [
        "#Find number of cans needed to paint a wall\n",
        "import math\n",
        "def paint_calc(height, width, cover):\n",
        "  area = height * width\n",
        "  num_of_cans = math.ceil(area/cover) #import math, ceil rounds to higher number \n",
        "  print(f'you\\'ll need {num_of_cans} cans of paint')\n",
        "\n",
        "test_h = int(input(\"Height of wall: \"))\n",
        "test_w = int(input(\"Width of wall: \"))\n",
        "coverage = 5\n",
        "paint_calc(height=test_h, width=test_w, cover=coverage)"
      ],
      "metadata": {
        "colab": {
          "base_uri": "https://localhost:8080/"
        },
        "id": "1Lqs8G4K-HaX",
        "outputId": "bc6f10f6-1e6c-4094-f236-63e78214fe23"
      },
      "execution_count": null,
      "outputs": [
        {
          "output_type": "stream",
          "name": "stdout",
          "text": [
            "Height of wall: 7\n",
            "Width of wall: 13\n",
            "you'll need 19 cans of paint\n"
          ]
        }
      ]
    },
    {
      "cell_type": "code",
      "source": [
        "#prime number checker\n",
        "n = int(input('Check this number:'))\n",
        "def prime_checker(number):\n",
        "    is_prime = True\n",
        "    for i in range(2, number):\n",
        "        if number % i == 0:\n",
        "            is_prime = False\n",
        "    if is_prime:\n",
        "        print(\"It is a prime number\")\n",
        "    else:\n",
        "        print('It is not a prime number.')\n",
        "\n",
        "prime_checker(n)"
      ],
      "metadata": {
        "colab": {
          "base_uri": "https://localhost:8080/"
        },
        "id": "7NMk3odV-Lcg",
        "outputId": "2e521fd5-ee92-4ea7-c3e3-2eece1fe6632"
      },
      "execution_count": null,
      "outputs": [
        {
          "output_type": "stream",
          "name": "stdout",
          "text": [
            "Check this number:7\n",
            "It is a prime number\n"
          ]
        }
      ]
    },
    {
      "cell_type": "code",
      "source": [
        "#creating a CIPHER, shifts letters a specified amount to decode/encode , tags: password, encrypt\n",
        "\n",
        "alphabet = ['a', 'b', 'c', 'd', 'e', 'f', 'g', 'h', 'i', 'j', 'k', 'l', 'm', 'n', 'o', 'p', 'q', 'r', 's', 't', 'u', 'v', 'w', 'x', 'y', 'z', 'a', 'b', 'c', 'd', 'e', 'f', 'g', 'h', 'i', 'j', 'k', 'l', 'm', 'n', 'o', 'p', 'q', 'r', 's', 't', 'u', 'v', 'w', 'x', 'y', 'z']\n",
        "#put all letters twice so if shifting past letter z, goes back to 'a'\n",
        "\n",
        "direction = input(\"Type 'encode' to encrypt, type 'decode' to decrypt:\\n\")\n",
        "text = input(\"Type your message:\\n\").lower()\n",
        "shift = int(input(\"Type the shift number:\\n\"))\n",
        "\n",
        "def cipher(start_text, shift_amount, cipher_direction):\n",
        "  end_text = \"\"\n",
        "  if cipher_direction == \"decode\":\n",
        "      shift_amount *= -1 #reverses direction of shift\n",
        "  for letter in start_text:\n",
        "    position = alphabet.index(letter)\n",
        "    new_position = position + shift_amount\n",
        "    end_text += alphabet[new_position]\n",
        "  print(f\"Here's the {direction}d result: {end_text}\")\n",
        "\n",
        "cipher(start_text=text, shift_amount=shift, cipher_direction=direction)\n"
      ],
      "metadata": {
        "colab": {
          "base_uri": "https://localhost:8080/"
        },
        "id": "HULQ5smcBm7k",
        "outputId": "8ebed2d5-4470-4e34-dc78-05217b413791"
      },
      "execution_count": null,
      "outputs": [
        {
          "output_type": "stream",
          "name": "stdout",
          "text": [
            "Type 'encode' to encrypt, type 'decode' to decrypt:\n",
            "encode\n",
            "Type your message:\n",
            "aabb\n",
            "Type the shift number:\n",
            "1\n",
            "Here's the encoded result: bbcc\n"
          ]
        }
      ]
    },
    {
      "cell_type": "code",
      "source": [
        "#Convert scores to Grade \n",
        "student_scores = {\n",
        "  \"Harry\": 81,\n",
        "  \"Ron\": 78,\n",
        "  \"Hermione\": 99, \n",
        "  \"Draco\": 74,\n",
        "  \"Neville\": 62,\n",
        "}\n",
        "#Create an empty dictionary\n",
        "student_grades = {}\n",
        "\n",
        "#adding student grades\n",
        "student_grades\n",
        "for student in student_scores:\n",
        "  score = student_scores[student]\n",
        "  if score > 90:\n",
        "    student_grades[student] = \"Outstanding\"\n",
        "  elif score > 80:\n",
        "    student_grades[student] = \"Exceeds Expectations\"\n",
        "  elif score > 70: \n",
        "    student_grades[student] = \"Acceptable\"\n",
        "  else:\n",
        "    student_grades[student] = \"Fail\"\n",
        "print(student_grades)\n",
        "\n",
        "#"
      ],
      "metadata": {
        "id": "RmaMoZazSxRl"
      },
      "execution_count": null,
      "outputs": []
    },
    {
      "cell_type": "code",
      "source": [
        "#Convert scores to Grade \n",
        "student_scores = {\n",
        "  \"Harry\": 81,\n",
        "  \"Ron\": 78,\n",
        "  \"Hermione\": 99, \n",
        "  \"Draco\": 74,\n",
        "  \"Neville\": 62,\n",
        "}\n",
        "#Create an empty dictionary\n",
        "student_grades = {}\n",
        "\n",
        "#adding student grades\n",
        "student_grades\n",
        "for student in student_scores:\n",
        "  score = student_scores[student]\n",
        "  if score > 90:\n",
        "    student_grades[student] = \"Outstanding\"\n",
        "  elif score > 80:\n",
        "    student_grades[student] = \"Exceeds Expectations\"\n",
        "  elif score > 70: \n",
        "    student_grades[student] = \"Acceptable\"\n",
        "  else:\n",
        "    student_grades[student] = \"Fail\"\n",
        "print(student_grades)"
      ],
      "metadata": {
        "id": "eEtAfyXvye6T"
      },
      "execution_count": null,
      "outputs": []
    },
    {
      "cell_type": "code",
      "source": [
        "#calculator\n",
        "\n",
        "def add(n1, n2):\n",
        "    return n1 + n2\n",
        "\n",
        "def subtract(n1, n2):\n",
        "    return n1 - n2\n",
        "def multiply(n1, n2):\n",
        "    return n1 * n2\n",
        "def divide(n1, n2):\n",
        "    return n1 / n2\n",
        "\n",
        "operations = { \n",
        "    \"+\": add,\n",
        "    \"-\": subtract,\n",
        "    \"/\": divide,\n",
        "    \"*\": multiply\n",
        "}\n",
        "\n",
        "num1 = int(input('Whats the first number?: '))\n",
        "\n",
        "\n",
        "for symbol in operations:\n",
        "    print(symbol) #shows list of symbols to pick from\n",
        "operation_symbol = input('Pick an operation from the line above: ') \n",
        "num2  = int(input('Whats the second number?: '))\n",
        "calculation_function = operations[operation_symbol]\n",
        "answer = calculation_function(num1, num2)\n",
        "\n",
        "print(f'{num1} {operation_symbol} {num2} = {answer}')\n",
        "answer = calculation_function(answer, num3)"
      ],
      "metadata": {
        "colab": {
          "base_uri": "https://localhost:8080/"
        },
        "id": "k2qNR-KUOQbZ",
        "outputId": "0c12be6b-403d-4ffd-a97e-a85ba4e58d49"
      },
      "execution_count": null,
      "outputs": [
        {
          "output_type": "stream",
          "name": "stdout",
          "text": [
            "Whats the first number?: 22\n",
            "+\n",
            "-\n",
            "/\n",
            "*\n",
            "Pick an operation from the line above: /\n",
            "Whats the second number?: 5\n",
            "22 / 5 = 4.4\n"
          ]
        }
      ]
    }
  ]
}
